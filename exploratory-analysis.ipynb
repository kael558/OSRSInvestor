{
 "cells": [
  {
   "cell_type": "code",
   "execution_count": 3,
   "id": "6563f50e",
   "metadata": {},
   "outputs": [],
   "source": [
    "from __future__ import absolute_import, division, print_function, unicode_literals\n",
    "import tensorflow as tf\n",
    "import matplotlib as mpl\n",
    "import matplotlib.pyplot as plt\n",
    "import numpy as np\n",
    "import os\n",
    "import seaborn as sns\n",
    "import pandas as pd\n",
    "from sklearn import preprocessing\n",
    "\n",
    "min_max_scaler = preprocessing.MinMaxScaler()\n",
    "mpl.rcParams['figure.figsize'] = (8, 6)\n",
    "mpl.rcParams['axes.grid'] = False\n",
    "%matplotlib inline"
   ]
  },
  {
   "cell_type": "code",
   "execution_count": 5,
   "id": "f3e5f81b",
   "metadata": {},
   "outputs": [
    {
     "name": "stdout",
     "output_type": "stream",
     "text": [
      "(64, 14)\n",
      "(65, 12)\n"
     ]
    }
   ],
   "source": [
    "rune_df = pd.read_csv(\"data/Rune/Rune_avg_price_data.csv\")\n",
    "xp_df = pd.read_csv(\"data/XP/XP_CML_data.csv\")\n",
    "\n",
    "print(rune_df.shape)\n",
    "print(xp_df.shape)"
   ]
  },
  {
   "cell_type": "code",
   "execution_count": null,
   "id": "4e02a2b9",
   "metadata": {},
   "outputs": [],
   "source": [
    "sns.boxplot(x=rune_df['Chaos_rune'])"
   ]
  },
  {
   "cell_type": "code",
   "execution_count": null,
   "id": "3744c132",
   "metadata": {},
   "outputs": [],
   "source": [
    "plt.figure(figsize=(20,10))\n",
    "\n",
    "x = rune_df.values #returns a numpy array\n",
    "rune_df = pd.DataFrame(min_max_scaler.fit_transform(x), columns=rune_df.columns)\n",
    "c=rune_df.corr()\n",
    "\n",
    "sns.heatmap(c, annot=True)"
   ]
  },
  {
   "cell_type": "code",
   "execution_count": null,
   "id": "4d02ab7e",
   "metadata": {},
   "outputs": [],
   "source": [
    "plt.figure(figsize=(20,10))\n",
    "\n",
    "x = xp_df.values #returns a numpy array\n",
    "xp_df = pd.DataFrame(min_max_scaler.fit_transform(x), columns=xp_df.columns)\n",
    "\n",
    "d=xp_df.corr()\n",
    "sns.heatmap(d, annot=True)"
   ]
  },
  {
   "cell_type": "code",
   "execution_count": null,
   "id": "74955bb2",
   "metadata": {},
   "outputs": [],
   "source": [
    "plt.figure(figsize=(20, 10))\n",
    "e=pd.concat([rune_df,xp_df],axis=1).corr()\n",
    "sns.heatmap(e, annot=True)"
   ]
  },
  {
   "cell_type": "code",
   "execution_count": null,
   "id": "6ea20d54",
   "metadata": {},
   "outputs": [],
   "source": []
  }
 ],
 "metadata": {
  "kernelspec": {
   "display_name": "Python 3",
   "language": "python",
   "name": "python3"
  },
  "language_info": {
   "codemirror_mode": {
    "name": "ipython",
    "version": 3
   },
   "file_extension": ".py",
   "mimetype": "text/x-python",
   "name": "python",
   "nbconvert_exporter": "python",
   "pygments_lexer": "ipython3",
   "version": "3.9.1"
  }
 },
 "nbformat": 4,
 "nbformat_minor": 5
}
